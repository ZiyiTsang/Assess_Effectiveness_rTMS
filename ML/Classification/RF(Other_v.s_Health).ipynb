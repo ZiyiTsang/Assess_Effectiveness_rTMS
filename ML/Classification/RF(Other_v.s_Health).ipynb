{
 "cells": [
  {
   "cell_type": "code",
   "execution_count": 6,
   "outputs": [],
   "source": [
    "import mne\n",
    "import matplotlib.pyplot as plt\n",
    "import numpy as np\n",
    "from mne_features.feature_extraction import extract_features,FeatureExtractor\n",
    "from mne_features.univariate import compute_pow_freq_bands\n",
    "import pandas as pd\n",
    "import os\n",
    "from sklearn.ensemble import RandomForestClassifier\n",
    "from sklearn.pipeline import make_pipeline\n",
    "from sklearn.preprocessing import StandardScaler\n",
    "from sklearn.model_selection import StratifiedKFold\n",
    "from sklearn.metrics import f1_score, accuracy_score, precision_score, recall_score, roc_auc_score, confusion_matrix\n",
    "mne.set_log_level('WARNING')\n",
    "from tqdm import tqdm\n",
    "import os\n",
    "from sklearn.feature_selection import RFECV\n",
    "from sklearn.preprocessing import StandardScaler"
   ],
   "metadata": {
    "collapsed": false,
    "ExecuteTime": {
     "end_time": "2023-11-27T16:13:19.490342100Z",
     "start_time": "2023-11-27T16:13:19.421838800Z"
    }
   }
  },
  {
   "cell_type": "code",
   "execution_count": 2,
   "outputs": [],
   "source": [
    "metric=\"f1\"\n",
    "root_path=r'E:\\ZKP\\persons comparision\\Band Analysis\\Epoch\\Epoch_Super'\n",
    "bands=['delta','theta','alpha','beta','gamma',\"all\"]\n",
    "drug_path_before=os.path.join(root_path,'drug_before')\n",
    "drug_path_before_s2=os.path.join(root_path,'drug_before_s2')\n",
    "health_path=os.path.join(root_path,'health')\n",
    "health_path_s2=os.path.join(root_path,'health_s2')\n",
    "drug_path_after=os.path.join(root_path,'drug_after')\n",
    "drug_path_after_s2=os.path.join(root_path,'drug_after_s2')\n",
    "\n",
    "# \n",
    "# health_after=os.path.join(root_path,'health_after')\n",
    "# health_compare=os.path.join(root_path,'health_for_compare')"
   ],
   "metadata": {
    "collapsed": false,
    "ExecuteTime": {
     "end_time": "2023-11-27T11:15:11.803588200Z",
     "start_time": "2023-11-27T11:15:11.794766700Z"
    }
   }
  },
  {
   "cell_type": "code",
   "execution_count": 3,
   "outputs": [],
   "source": [
    "def train_RF(X_,y_,):\n",
    "    clf_ = make_pipeline(StandardScaler(), RandomForestClassifier(random_state=20))\n",
    "    accuracy_scores = []\n",
    "    f1_scores = []\n",
    "    auc=[]\n",
    "    result=[]\n",
    "    for i,(train_index, test_index) in enumerate((StratifiedKFold(n_splits=5, shuffle=True).split(X_, y_))):\n",
    "        X_train, X_test = X_[train_index], X_[test_index]\n",
    "        y_train, y_test = y_[train_index], y_[test_index]\n",
    "        clf_.fit(X_train,y_train)\n",
    "        y_pred=clf_.predict(X_test)\n",
    "        accuracy_scores.append(accuracy_score(y_test,y_pred))\n",
    "        f1_scores.append(f1_score(y_test,y_pred))\n",
    "        auc.append(roc_auc_score(y_test,y_pred))\n",
    "    result.append([np.mean(accuracy_scores),np.std(accuracy_scores)])\n",
    "    result.append([np.mean(f1_scores),np.std(f1_scores)])\n",
    "    result.append([np.mean(auc),np.std(auc)])\n",
    "    df=pd.DataFrame(result,columns=['mean','std'],index=['accuracy','f1','roc_auc']).T\n",
    "    return df,clf_\n"
   ],
   "metadata": {
    "collapsed": false,
    "ExecuteTime": {
     "end_time": "2023-11-27T11:15:11.819058Z",
     "start_time": "2023-11-27T11:15:11.804607200Z"
    }
   }
  },
  {
   "cell_type": "code",
   "execution_count": 4,
   "outputs": [
    {
     "name": "stderr",
     "output_type": "stream",
     "text": [
      "100%|██████████| 5/5 [00:12<00:00,  2.57s/it]\n",
      "100%|██████████| 5/5 [00:12<00:00,  2.57s/it]\n",
      "100%|██████████| 5/5 [00:13<00:00,  2.71s/it]\n",
      "100%|██████████| 5/5 [00:13<00:00,  2.71s/it]\n",
      "100%|██████████| 5/5 [00:13<00:00,  2.80s/it]\n",
      "100%|██████████| 5/5 [00:13<00:00,  2.78s/it]\n",
      "100%|██████████| 5/5 [00:14<00:00,  2.80s/it]\n",
      "100%|██████████| 5/5 [00:15<00:00,  3.05s/it]\n",
      "100%|██████████| 5/5 [00:13<00:00,  2.80s/it]\n"
     ]
    }
   ],
   "source": [
    "def run_algo(path_1,path_2):\n",
    "    all_measure=[]\n",
    "    Overall_X=[]\n",
    "    Overall_y=None\n",
    "    for band in tqdm(bands[:-1]):\n",
    "        drug_data=pd.read_excel(os.path.join(path_1,band+'.xlsx'))  \n",
    "        health_data=pd.read_excel(os.path.join(path_2,band+'.xlsx'))\n",
    "        # drug_data.drop(columns=['ID'],inplace=True)\n",
    "        # health_data.drop(columns=['ID'],inplace=True)\n",
    "        X=np.concatenate((drug_data.values,health_data.values),axis=0)\n",
    "        y=np.concatenate((np.ones(drug_data.shape[0]),np.zeros(health_data.shape[0])),axis=0)\n",
    "        Overall_X.append(X)\n",
    "        if Overall_y is None:\n",
    "            Overall_y=y\n",
    "        df,_=train_RF(X,y)\n",
    "        mean_roc=df[metric].to_list()[0]\n",
    "        std_roc=df[metric].to_list()[1]\n",
    "        all_measure.append(\"{:.2f}({:.2f})\".format(mean_roc,std_roc))\n",
    "    Overall_X=np.mean(Overall_X,axis=0)\n",
    "    df,_=train_RF(Overall_X,Overall_y)\n",
    "    mean_roc=df[metric].to_list()[0]\n",
    "    std_roc=df[metric].to_list()[1]\n",
    "    all_measure.append(\"{:.2f}({:.2f})\".format(mean_roc,std_roc))\n",
    "    return all_measure\n",
    "b_h=run_algo(drug_path_before,health_path)\n",
    "a_h=run_algo(drug_path_after,health_path)\n",
    "a_b=run_algo(drug_path_after,drug_path_before)\n",
    "b1_b2=run_algo(drug_path_before_s2,drug_path_before)\n",
    "a1_a2=run_algo(drug_path_after,drug_path_after_s2)\n",
    "h1_h2=run_algo(health_path,health_path_s2)\n",
    "hs2_bs2=run_algo(drug_path_before_s2,health_path_s2)\n",
    "as2_hs2=run_algo(drug_path_after_s2,health_path_s2)\n",
    "as2_bs2=run_algo(drug_path_after_s2,drug_path_before_s2)\n",
    "# \n",
    "# hb_ha=run_algo(health_compare,health_after)"
   ],
   "metadata": {
    "collapsed": false,
    "ExecuteTime": {
     "end_time": "2023-11-27T11:17:35.996082Z",
     "start_time": "2023-11-27T11:15:11.827445300Z"
    }
   }
  },
  {
   "cell_type": "code",
   "execution_count": 5,
   "outputs": [
    {
     "data": {
      "text/plain": "                                        delta       theta       alpha   \nBefore TMS v.s Health              0.82(0.03)  0.75(0.05)  0.80(0.03)  \\\nAfter TMS v.s Health               0.80(0.02)  0.71(0.04)  0.78(0.04)   \nAfter TMS v.s Before TMS           0.74(0.03)  0.62(0.05)  0.61(0.03)   \nBefore TMS(S1) v.s Before TMS(S2)  0.50(0.03)  0.53(0.06)  0.49(0.05)   \nAfter TMS(S1) v.s After TMS(S2)    0.53(0.03)  0.51(0.03)  0.52(0.04)   \nHealth(S1) v.s Health(S2)          0.52(0.05)  0.49(0.03)  0.51(0.04)   \nDrug(S2) v.s Health(S2)            0.74(0.04)  0.75(0.03)  0.74(0.03)   \nDrug_after(S2) v.s Health(S2)      0.73(0.03)  0.71(0.02)  0.77(0.03)   \nDrug(S2) v.s Drug-after(S2)        0.71(0.05)  0.65(0.03)  0.60(0.03)   \n\n                                         beta       gamma         all  \nBefore TMS v.s Health              0.88(0.02)  0.90(0.02)  0.87(0.02)  \nAfter TMS v.s Health               0.82(0.06)  0.88(0.01)  0.83(0.03)  \nAfter TMS v.s Before TMS           0.77(0.04)  0.84(0.03)  0.77(0.02)  \nBefore TMS(S1) v.s Before TMS(S2)  0.44(0.05)  0.48(0.04)  0.51(0.06)  \nAfter TMS(S1) v.s After TMS(S2)    0.51(0.03)  0.49(0.04)  0.54(0.04)  \nHealth(S1) v.s Health(S2)          0.55(0.07)  0.47(0.03)  0.50(0.05)  \nDrug(S2) v.s Health(S2)            0.82(0.04)  0.88(0.04)  0.80(0.06)  \nDrug_after(S2) v.s Health(S2)      0.79(0.04)  0.87(0.03)  0.81(0.04)  \nDrug(S2) v.s Drug-after(S2)        0.75(0.03)  0.80(0.02)  0.76(0.03)  ",
      "text/html": "<div>\n<style scoped>\n    .dataframe tbody tr th:only-of-type {\n        vertical-align: middle;\n    }\n\n    .dataframe tbody tr th {\n        vertical-align: top;\n    }\n\n    .dataframe thead th {\n        text-align: right;\n    }\n</style>\n<table border=\"1\" class=\"dataframe\">\n  <thead>\n    <tr style=\"text-align: right;\">\n      <th></th>\n      <th>delta</th>\n      <th>theta</th>\n      <th>alpha</th>\n      <th>beta</th>\n      <th>gamma</th>\n      <th>all</th>\n    </tr>\n  </thead>\n  <tbody>\n    <tr>\n      <th>Before TMS v.s Health</th>\n      <td>0.82(0.03)</td>\n      <td>0.75(0.05)</td>\n      <td>0.80(0.03)</td>\n      <td>0.88(0.02)</td>\n      <td>0.90(0.02)</td>\n      <td>0.87(0.02)</td>\n    </tr>\n    <tr>\n      <th>After TMS v.s Health</th>\n      <td>0.80(0.02)</td>\n      <td>0.71(0.04)</td>\n      <td>0.78(0.04)</td>\n      <td>0.82(0.06)</td>\n      <td>0.88(0.01)</td>\n      <td>0.83(0.03)</td>\n    </tr>\n    <tr>\n      <th>After TMS v.s Before TMS</th>\n      <td>0.74(0.03)</td>\n      <td>0.62(0.05)</td>\n      <td>0.61(0.03)</td>\n      <td>0.77(0.04)</td>\n      <td>0.84(0.03)</td>\n      <td>0.77(0.02)</td>\n    </tr>\n    <tr>\n      <th>Before TMS(S1) v.s Before TMS(S2)</th>\n      <td>0.50(0.03)</td>\n      <td>0.53(0.06)</td>\n      <td>0.49(0.05)</td>\n      <td>0.44(0.05)</td>\n      <td>0.48(0.04)</td>\n      <td>0.51(0.06)</td>\n    </tr>\n    <tr>\n      <th>After TMS(S1) v.s After TMS(S2)</th>\n      <td>0.53(0.03)</td>\n      <td>0.51(0.03)</td>\n      <td>0.52(0.04)</td>\n      <td>0.51(0.03)</td>\n      <td>0.49(0.04)</td>\n      <td>0.54(0.04)</td>\n    </tr>\n    <tr>\n      <th>Health(S1) v.s Health(S2)</th>\n      <td>0.52(0.05)</td>\n      <td>0.49(0.03)</td>\n      <td>0.51(0.04)</td>\n      <td>0.55(0.07)</td>\n      <td>0.47(0.03)</td>\n      <td>0.50(0.05)</td>\n    </tr>\n    <tr>\n      <th>Drug(S2) v.s Health(S2)</th>\n      <td>0.74(0.04)</td>\n      <td>0.75(0.03)</td>\n      <td>0.74(0.03)</td>\n      <td>0.82(0.04)</td>\n      <td>0.88(0.04)</td>\n      <td>0.80(0.06)</td>\n    </tr>\n    <tr>\n      <th>Drug_after(S2) v.s Health(S2)</th>\n      <td>0.73(0.03)</td>\n      <td>0.71(0.02)</td>\n      <td>0.77(0.03)</td>\n      <td>0.79(0.04)</td>\n      <td>0.87(0.03)</td>\n      <td>0.81(0.04)</td>\n    </tr>\n    <tr>\n      <th>Drug(S2) v.s Drug-after(S2)</th>\n      <td>0.71(0.05)</td>\n      <td>0.65(0.03)</td>\n      <td>0.60(0.03)</td>\n      <td>0.75(0.03)</td>\n      <td>0.80(0.02)</td>\n      <td>0.76(0.03)</td>\n    </tr>\n  </tbody>\n</table>\n</div>"
     },
     "execution_count": 5,
     "metadata": {},
     "output_type": "execute_result"
    }
   ],
   "source": [
    "pd.DataFrame([b_h,a_h,a_b,b1_b2,a1_a2,h1_h2,hs2_bs2,as2_hs2,as2_bs2],columns=bands[:],index=['Before TMS v.s Health','After TMS v.s Health','After TMS v.s Before TMS','Before TMS(S1) v.s Before TMS(S2)','After TMS(S1) v.s After TMS(S2)','Health(S1) v.s Health(S2)','Drug(S2) v.s Health(S2)','Drug_after(S2) v.s Health(S2)','Drug(S2) v.s Drug-after(S2)'])"
   ],
   "metadata": {
    "collapsed": false,
    "ExecuteTime": {
     "end_time": "2023-11-27T11:17:36.029084100Z",
     "start_time": "2023-11-27T11:17:36.001083800Z"
    }
   }
  }
 ],
 "metadata": {
  "kernelspec": {
   "display_name": "Python 3",
   "language": "python",
   "name": "python3"
  },
  "language_info": {
   "codemirror_mode": {
    "name": "ipython",
    "version": 2
   },
   "file_extension": ".py",
   "mimetype": "text/x-python",
   "name": "python",
   "nbconvert_exporter": "python",
   "pygments_lexer": "ipython2",
   "version": "2.7.6"
  }
 },
 "nbformat": 4,
 "nbformat_minor": 0
}
