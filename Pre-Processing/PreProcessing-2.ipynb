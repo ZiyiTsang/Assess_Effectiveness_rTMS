{
 "cells": [
  {
   "cell_type": "code",
   "execution_count": 43,
   "id": "initial_id",
   "metadata": {
    "collapsed": true,
    "ExecuteTime": {
     "end_time": "2023-12-31T12:38:36.756669700Z",
     "start_time": "2023-12-31T12:38:36.730620700Z"
    }
   },
   "outputs": [],
   "source": [
    "import numpy as np\n",
    "import pandas as pd\n",
    "import os\n",
    "from matplotlib import pyplot as plt\n",
    "import seaborn as sns\n",
    "import mne\n",
    "from tqdm import tqdm\n",
    "mne.set_log_level('ERROR')\n",
    "from mne_icalabel import label_components\n",
    "from mne.preprocessing import ICA\n",
    "from autoreject import autoreject"
   ]
  },
  {
   "cell_type": "code",
   "execution_count": 58,
   "outputs": [
    {
     "data": {
      "text/plain": "['E:\\\\ZKP\\\\drug persons\\\\eeg\\\\export\\\\AllFinished\\\\2401-edf_raw.fif',\n 'E:\\\\ZKP\\\\drug persons\\\\eeg\\\\export\\\\AllFinished\\\\2402-edf_raw.fif',\n 'E:\\\\ZKP\\\\drug persons\\\\eeg\\\\export\\\\AllFinished\\\\2403-edf_raw.fif',\n 'E:\\\\ZKP\\\\drug persons\\\\eeg\\\\export\\\\AllFinished\\\\2405-edf_raw.fif',\n 'E:\\\\ZKP\\\\drug persons\\\\eeg\\\\export\\\\AllFinished\\\\2406-edf_raw.fif',\n 'E:\\\\ZKP\\\\drug persons\\\\eeg\\\\export\\\\AllFinished\\\\2407-edf_raw.fif',\n 'E:\\\\ZKP\\\\drug persons\\\\eeg\\\\export\\\\AllFinished\\\\2408-edf_raw.fif',\n 'E:\\\\ZKP\\\\drug persons\\\\eeg\\\\export\\\\AllFinished\\\\2409-edf_raw.fif',\n 'E:\\\\ZKP\\\\drug persons\\\\eeg\\\\export\\\\AllFinished\\\\2410-edf_raw.fif',\n 'E:\\\\ZKP\\\\drug persons\\\\eeg\\\\export\\\\AllFinished\\\\2411-edf_raw.fif',\n 'E:\\\\ZKP\\\\drug persons\\\\eeg\\\\export\\\\AllFinished\\\\2412-edf_raw.fif',\n 'E:\\\\ZKP\\\\drug persons\\\\eeg\\\\export\\\\AllFinished\\\\2413-edf_raw.fif',\n 'E:\\\\ZKP\\\\drug persons\\\\eeg\\\\export\\\\AllFinished\\\\2414-edf_raw.fif',\n 'E:\\\\ZKP\\\\drug persons\\\\eeg\\\\export\\\\AllFinished\\\\2415-edf_raw.fif',\n 'E:\\\\ZKP\\\\drug persons\\\\eeg\\\\export\\\\AllFinished\\\\2416-edf_raw.fif',\n 'E:\\\\ZKP\\\\drug persons\\\\eeg\\\\export\\\\AllFinished\\\\2417-edf_raw.fif',\n 'E:\\\\ZKP\\\\drug persons\\\\eeg\\\\export\\\\AllFinished\\\\2418-edf_raw.fif',\n 'E:\\\\ZKP\\\\drug persons\\\\eeg\\\\export\\\\AllFinished\\\\2419-edf_raw.fif',\n 'E:\\\\ZKP\\\\drug persons\\\\eeg\\\\export\\\\AllFinished\\\\2421-edf_raw.fif',\n 'E:\\\\ZKP\\\\drug persons\\\\eeg\\\\export\\\\AllFinished\\\\2423-edf_raw.fif']"
     },
     "execution_count": 58,
     "metadata": {},
     "output_type": "execute_result"
    }
   ],
   "source": [
    "# 吸毒\n",
    "# load_path=r'E:\\ZKP\\drug persons\\eeg\\export\\AllFinished_2'\n",
    "# save_path=r'E:\\ZKP\\drug persons\\eeg\\export\\EpochData'\n",
    "# file_list = []\n",
    "# for root, dirs, files in os.walk(load_path):\n",
    "#     for file in files:\n",
    "#         if file.endswith('.fif') and \"Archive\" not in root and \"24\" in file:\n",
    "#             file_list.append(os.path.join(root, file))\n",
    "# file_list"
   ],
   "metadata": {
    "collapsed": false,
    "ExecuteTime": {
     "end_time": "2023-12-31T13:27:43.120747900Z",
     "start_time": "2023-12-31T13:27:43.067176900Z"
    }
   },
   "id": "891f76717172ce2a"
  },
  {
   "cell_type": "code",
   "outputs": [
    {
     "data": {
      "text/plain": "['E:\\\\ZKP\\\\health persons\\\\Addiction_EEG\\\\export1\\\\AllFinished_2\\\\1201-edf_raw.fif',\n 'E:\\\\ZKP\\\\health persons\\\\Addiction_EEG\\\\export1\\\\AllFinished_2\\\\1202-edf_raw.fif',\n 'E:\\\\ZKP\\\\health persons\\\\Addiction_EEG\\\\export1\\\\AllFinished_2\\\\1204-edf_raw.fif',\n 'E:\\\\ZKP\\\\health persons\\\\Addiction_EEG\\\\export1\\\\AllFinished_2\\\\1205-edf_raw.fif',\n 'E:\\\\ZKP\\\\health persons\\\\Addiction_EEG\\\\export1\\\\AllFinished_2\\\\2302-edf_raw.fif',\n 'E:\\\\ZKP\\\\health persons\\\\Addiction_EEG\\\\export1\\\\AllFinished_2\\\\2303-2-edf_raw.fif',\n 'E:\\\\ZKP\\\\health persons\\\\Addiction_EEG\\\\export1\\\\AllFinished_2\\\\2304-edf_raw.fif',\n 'E:\\\\ZKP\\\\health persons\\\\Addiction_EEG\\\\export1\\\\AllFinished_2\\\\2306-edf_raw.fif',\n 'E:\\\\ZKP\\\\health persons\\\\Addiction_EEG\\\\export1\\\\AllFinished_2\\\\2307-edf_raw.fif',\n 'E:\\\\ZKP\\\\health persons\\\\Addiction_EEG\\\\export1\\\\AllFinished_2\\\\2308-edf_raw.fif',\n 'E:\\\\ZKP\\\\health persons\\\\Addiction_EEG\\\\export1\\\\AllFinished_2\\\\2309-edf_raw.fif',\n 'E:\\\\ZKP\\\\health persons\\\\Addiction_EEG\\\\export1\\\\AllFinished_2\\\\2311-edf_raw.fif',\n 'E:\\\\ZKP\\\\health persons\\\\Addiction_EEG\\\\export1\\\\AllFinished_2\\\\2312-edf_raw.fif',\n 'E:\\\\ZKP\\\\health persons\\\\Addiction_EEG\\\\export1\\\\AllFinished_2\\\\2313-edf_raw.fif',\n 'E:\\\\ZKP\\\\health persons\\\\Addiction_EEG\\\\export1\\\\AllFinished_2\\\\2314-edf_raw.fif',\n 'E:\\\\ZKP\\\\health persons\\\\Addiction_EEG\\\\export1\\\\AllFinished_2\\\\2316-edf_raw.fif',\n 'E:\\\\ZKP\\\\health persons\\\\Addiction_EEG\\\\export1\\\\AllFinished_2\\\\2317-edf_raw.fif',\n 'E:\\\\ZKP\\\\health persons\\\\Addiction_EEG\\\\export1\\\\AllFinished_2\\\\2318-edf_raw.fif',\n 'E:\\\\ZKP\\\\health persons\\\\Addiction_EEG\\\\export1\\\\AllFinished_2\\\\2320-edf_raw.fif',\n 'E:\\\\ZKP\\\\health persons\\\\Addiction_EEG\\\\export1\\\\AllFinished_2\\\\2321-edf_raw.fif']"
     },
     "execution_count": 94,
     "metadata": {},
     "output_type": "execute_result"
    }
   ],
   "source": [
    "load_path=r'E:\\ZKP\\health persons\\Addiction_EEG\\export1\\AllFinished_2'\n",
    "save_path=r'E:\\ZKP\\drug persons\\eeg\\export\\EpochData'\n",
    "file_list = []\n",
    "for root, dirs, files in os.walk(load_path):\n",
    "    for file in files:\n",
    "        if file.endswith('.fif') and \"Archive\" not in root and \"26\" not in file:\n",
    "            file_list.append(os.path.join(root, file))\n",
    "file_list"
   ],
   "metadata": {
    "collapsed": false,
    "ExecuteTime": {
     "end_time": "2023-12-31T13:35:50.802509100Z",
     "start_time": "2023-12-31T13:35:50.777828300Z"
    }
   },
   "id": "b32f5c5d6d55c49e",
   "execution_count": 94
  },
  {
   "cell_type": "code",
   "execution_count": 95,
   "outputs": [],
   "source": [
    "def extractEpoch(raw,tmin,tmax,mark)-> mne.Epochs:\n",
    "    events = mne.events_from_annotations(raw)\n",
    "    # print(events)\n",
    "    event_id = {'S 1': events[1]['S  1'],'S 2': events[1]['S  2']}\n",
    "    epochs = mne.Epochs(raw, events[0], event_id, tmin, tmax, baseline=None,event_repeated=\"drop\",preload=True,verbose=False,reject=None)\n",
    "    return epochs[mark]\n"
   ],
   "metadata": {
    "collapsed": false,
    "ExecuteTime": {
     "end_time": "2023-12-31T13:35:52.442053100Z",
     "start_time": "2023-12-31T13:35:52.430542900Z"
    }
   },
   "id": "aa5c7de463957322"
  },
  {
   "cell_type": "code",
   "execution_count": 91,
   "outputs": [
    {
     "name": "stderr",
     "output_type": "stream",
     "text": [
      "100%|██████████| 20/20 [00:14<00:00,  1.37it/s]"
     ]
    },
    {
     "name": "stdout",
     "output_type": "stream",
     "text": [
      "(300, 32, 1751)\n"
     ]
    },
    {
     "name": "stderr",
     "output_type": "stream",
     "text": [
      "\n"
     ]
    }
   ],
   "source": [
    "import numpy as np\n",
    "data_set = []\n",
    "info=None\n",
    "for file in tqdm(file_list):\n",
    "    raw = mne.io.read_raw(file, preload=True)\n",
    "    raw = raw.set_montage('standard_1020')\n",
    "    epochs = extractEpoch(raw, -3.5, 0, 'S 1')\n",
    "    data = epochs.get_data()\n",
    "    if len(data_set) == 0:\n",
    "        data_set = data\n",
    "    else:\n",
    "        data_set = np.concatenate((data_set, data), axis=0)\n",
    "    info=epochs.info\n",
    "print(data_set.shape)"
   ],
   "metadata": {
    "collapsed": false,
    "ExecuteTime": {
     "end_time": "2023-12-31T13:35:29.839814Z",
     "start_time": "2023-12-31T13:35:15.191877200Z"
    }
   },
   "id": "3d152d096982d3f0"
  },
  {
   "cell_type": "code",
   "execution_count": 92,
   "outputs": [],
   "source": [
    "epochs = mne.EpochsArray(data_set, info, )\n",
    "epochs.save(\"E:\\ZKP\\drug persons\\eeg\\export\\EpochData\\HC-S1_BeforeStimuli-epo.fif\",overwrite=True)"
   ],
   "metadata": {
    "collapsed": false,
    "ExecuteTime": {
     "end_time": "2023-12-31T13:35:30.185252800Z",
     "start_time": "2023-12-31T13:35:29.842857700Z"
    }
   },
   "id": "3584f83f3ec0deff"
  },
  {
   "cell_type": "code",
   "outputs": [
    {
     "name": "stdout",
     "output_type": "stream",
     "text": [
      "[ 1.32853799e-07  1.21892958e-06  2.09737595e-06 ... -5.57089743e-06\n",
      " -6.10888583e-06 -6.21604295e-06]\n",
      "[-2.69162399e-08 -4.87083071e-07 -5.28994576e-07 ... -3.36417156e-06\n",
      " -3.47245259e-06 -2.98342638e-06]\n"
     ]
    }
   ],
   "source": [
    "a=mne.read_epochs(\"E:\\ZKP\\drug persons\\eeg\\export\\EpochData\\MBT-S1_AfterStimuli-epo.fif\").get_data()[0][0]\n",
    "b=mne.read_epochs(\"E:\\ZKP\\drug persons\\eeg\\export\\EpochData\\MBT-S1_BeforeStimuli-epo.fif\").get_data()[0][0]\n",
    "print(a)\n",
    "print(b)"
   ],
   "metadata": {
    "collapsed": false,
    "ExecuteTime": {
     "end_time": "2023-12-31T13:42:29.836173400Z",
     "start_time": "2023-12-31T13:42:29.057910100Z"
    }
   },
   "id": "3489a48763aad343",
   "execution_count": 97
  },
  {
   "cell_type": "code",
   "outputs": [
    {
     "ename": "ValueError",
     "evalue": "operands could not be broadcast together with shapes (300,32,1751) (300,32,3501) ",
     "output_type": "error",
     "traceback": [
      "\u001B[1;31m---------------------------------------------------------------------------\u001B[0m",
      "\u001B[1;31mValueError\u001B[0m                                Traceback (most recent call last)",
      "Cell \u001B[1;32mIn[81], line 1\u001B[0m\n\u001B[1;32m----> 1\u001B[0m \u001B[43mnp\u001B[49m\u001B[38;5;241;43m.\u001B[39;49m\u001B[43mequal\u001B[49m\u001B[43m(\u001B[49m\u001B[43ma\u001B[49m\u001B[43m,\u001B[49m\u001B[43mb\u001B[49m\u001B[43m)\u001B[49m\u001B[38;5;241m.\u001B[39mall()\n",
      "\u001B[1;31mValueError\u001B[0m: operands could not be broadcast together with shapes (300,32,1751) (300,32,3501) "
     ]
    }
   ],
   "source": [],
   "metadata": {
    "collapsed": false,
    "ExecuteTime": {
     "end_time": "2023-12-31T13:32:26.775691200Z",
     "start_time": "2023-12-31T13:32:26.732115800Z"
    }
   },
   "id": "6b547fa2640af16f",
   "execution_count": 81
  },
  {
   "cell_type": "code",
   "outputs": [],
   "source": [],
   "metadata": {
    "collapsed": false
   },
   "id": "50357003665f03c1",
   "execution_count": null
  }
 ],
 "metadata": {
  "kernelspec": {
   "display_name": "Python 3",
   "language": "python",
   "name": "python3"
  },
  "language_info": {
   "codemirror_mode": {
    "name": "ipython",
    "version": 2
   },
   "file_extension": ".py",
   "mimetype": "text/x-python",
   "name": "python",
   "nbconvert_exporter": "python",
   "pygments_lexer": "ipython2",
   "version": "2.7.6"
  }
 },
 "nbformat": 4,
 "nbformat_minor": 5
}
