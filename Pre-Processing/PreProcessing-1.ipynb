{
 "cells": [
  {
   "cell_type": "code",
   "execution_count": 2,
   "metadata": {
    "collapsed": true,
    "ExecuteTime": {
     "end_time": "2023-10-20T02:53:26.235058100Z",
     "start_time": "2023-10-20T02:53:23.999536300Z"
    }
   },
   "outputs": [],
   "source": [
    "import numpy as np\n",
    "import pandas as pd\n",
    "import os\n",
    "from matplotlib import pyplot as plt\n",
    "import seaborn as sns\n",
    "import mne\n",
    "from tqdm import tqdm\n",
    "mne.set_log_level('ERROR')"
   ]
  },
  {
   "metadata": {},
   "cell_type": "markdown",
   "source": "The data have already processing in brainvision software, this is the latter part to process the data."
  },
  {
   "cell_type": "code",
   "execution_count": 17,
   "outputs": [
    {
     "data": {
      "text/plain": "['E:\\\\ZKP\\\\health persons\\\\Addiction_EEG\\\\export1\\\\FilterAndInterporate\\\\Version_2\\\\2302-edf.edf',\n 'E:\\\\ZKP\\\\health persons\\\\Addiction_EEG\\\\export1\\\\FilterAndInterporate\\\\Version_2\\\\2303-2-edf.edf',\n 'E:\\\\ZKP\\\\health persons\\\\Addiction_EEG\\\\export1\\\\FilterAndInterporate\\\\Version_2\\\\2304-edf.edf',\n 'E:\\\\ZKP\\\\health persons\\\\Addiction_EEG\\\\export1\\\\FilterAndInterporate\\\\Version_2\\\\2306-edf.edf',\n 'E:\\\\ZKP\\\\health persons\\\\Addiction_EEG\\\\export1\\\\FilterAndInterporate\\\\Version_2\\\\2307-edf.edf',\n 'E:\\\\ZKP\\\\health persons\\\\Addiction_EEG\\\\export1\\\\FilterAndInterporate\\\\Version_2\\\\2308-edf.edf',\n 'E:\\\\ZKP\\\\health persons\\\\Addiction_EEG\\\\export1\\\\FilterAndInterporate\\\\Version_2\\\\2309-edf.edf',\n 'E:\\\\ZKP\\\\health persons\\\\Addiction_EEG\\\\export1\\\\FilterAndInterporate\\\\Version_2\\\\2310-edf.edf',\n 'E:\\\\ZKP\\\\health persons\\\\Addiction_EEG\\\\export1\\\\FilterAndInterporate\\\\Version_2\\\\2311-edf.edf',\n 'E:\\\\ZKP\\\\health persons\\\\Addiction_EEG\\\\export1\\\\FilterAndInterporate\\\\Version_2\\\\2312-edf.edf',\n 'E:\\\\ZKP\\\\health persons\\\\Addiction_EEG\\\\export1\\\\FilterAndInterporate\\\\Version_2\\\\2313-edf.edf',\n 'E:\\\\ZKP\\\\health persons\\\\Addiction_EEG\\\\export1\\\\FilterAndInterporate\\\\Version_2\\\\2314-edf.edf',\n 'E:\\\\ZKP\\\\health persons\\\\Addiction_EEG\\\\export1\\\\FilterAndInterporate\\\\Version_2\\\\2316-edf.edf',\n 'E:\\\\ZKP\\\\health persons\\\\Addiction_EEG\\\\export1\\\\FilterAndInterporate\\\\Version_2\\\\2317-edf.edf',\n 'E:\\\\ZKP\\\\health persons\\\\Addiction_EEG\\\\export1\\\\FilterAndInterporate\\\\Version_2\\\\2318-edf.edf',\n 'E:\\\\ZKP\\\\health persons\\\\Addiction_EEG\\\\export1\\\\FilterAndInterporate\\\\Version_2\\\\2320-edf.edf',\n 'E:\\\\ZKP\\\\health persons\\\\Addiction_EEG\\\\export1\\\\FilterAndInterporate\\\\Version_2\\\\2321-edf.edf',\n 'E:\\\\ZKP\\\\health persons\\\\Addiction_EEG\\\\export1\\\\FilterAndInterporate\\\\Version_2\\\\2604-2-edf.edf',\n 'E:\\\\ZKP\\\\health persons\\\\Addiction_EEG\\\\export1\\\\FilterAndInterporate\\\\Version_2\\\\2617-edf.edf',\n 'E:\\\\ZKP\\\\health persons\\\\Addiction_EEG\\\\export1\\\\FilterAndInterporate\\\\Version_2\\\\2618-edf.edf',\n 'E:\\\\ZKP\\\\health persons\\\\Addiction_EEG\\\\export1\\\\FilterAndInterporate\\\\Version_2\\\\2620-edf.edf',\n 'E:\\\\ZKP\\\\health persons\\\\Addiction_EEG\\\\export1\\\\FilterAndInterporate\\\\Version_2\\\\2621-edf.edf']"
     },
     "execution_count": 17,
     "metadata": {},
     "output_type": "execute_result"
    }
   ],
   "source": [
    "channel_names = ['Fp1', 'F3', 'FC1', 'FC5', 'F7', 'FT9', 'CP1', 'CP5', 'P3', 'P7', 'Pz','O1', 'Oz', 'O2','C3', 'C4', 'Cz', 'T7', 'T8', 'TP9', 'TP10','CP2', 'CP6', 'P4', 'P8','Fp2', 'F4', 'FC2', 'FC6', 'F8', 'FT10','ECG']\n",
    "file_list = []\n",
    "load_path=r'E:\\ZKP\\health persons\\Addiction_EEG\\export1\\FilterAndInterporate\\Version_2'\n",
    "for root, dirs, files in os.walk(load_path):\n",
    "    for file in files:\n",
    "            file_list.append(os.path.join(root, file))\n",
    "save_path = r'E:\\ZKP\\health persons\\Addiction_EEG\\export1\\AllFinished_2'\n",
    "file_list"
   ],
   "metadata": {
    "collapsed": false,
    "ExecuteTime": {
     "end_time": "2023-10-18T15:17:39.806877100Z",
     "start_time": "2023-10-18T15:17:39.769066800Z"
    }
   }
  },
  {
   "cell_type": "code",
   "execution_count": 10,
   "outputs": [
    {
     "name": "stderr",
     "output_type": "stream",
     "text": [
      " 32%|███▏      | 7/22 [10:58<21:56, 87.80s/it] C:\\Users\\ZENG\\AppData\\Local\\Temp\\ipykernel_26816\\1011217287.py:4: RuntimeWarning: Omitted 3 annotation(s) that were outside data range.\n",
      "  raw=mne.io.read_raw(file,preload=True,verbose=False)\n",
      " 82%|████████▏ | 18/22 [29:47<07:26, 111.57s/it]C:\\Users\\ZENG\\AppData\\Local\\Temp\\ipykernel_26816\\1011217287.py:4: RuntimeWarning: Omitted 18 annotation(s) that were outside data range.\n",
      "  raw=mne.io.read_raw(file,preload=True,verbose=False)\n",
      "100%|██████████| 22/22 [39:28<00:00, 107.64s/it]\n"
     ]
    }
   ],
   "source": [
    "from mne.preprocessing import ICA\n",
    "\n",
    "for file in tqdm(file_list):\n",
    "    raw=mne.io.read_raw(file,preload=True,verbose=False)\n",
    "    raw._data *= 1e-6\n",
    "    if 'AF7' in raw.ch_names:\n",
    "        raw.rename_channels(mapping={'AF7': 'ECG'})\n",
    "    raw.set_channel_types({'ECG': 'ecg'})\n",
    "    raw=raw.reorder_channels(channel_names)\n",
    "    raw=raw.set_montage('standard_1020')\n",
    "    ica = ICA()\n",
    "    ica.fit(raw)\n",
    "    ica.exclude = []\n",
    "    mus_indices, mus_score=ica.find_bads_muscle(raw,threshold=0.8)\n",
    "    ica.exclude += mus_indices\n",
    "    eog_indices, eog_socre = ica.find_bads_eog(raw,ch_name='Fp1')\n",
    "    ica.exclude += eog_indices\n",
    "    ica.apply(raw)\n",
    "    file_save_path = os.path.join(save_path,os.path.basename(file).split('.')[0]+'_raw.fif')\n",
    "    raw.save(file_save_path,overwrite=True)\n"
   ],
   "metadata": {
    "collapsed": false,
    "ExecuteTime": {
     "end_time": "2023-10-18T14:55:51.252213300Z",
     "start_time": "2023-10-18T14:16:23.100377700Z"
    }
   }
  }
 ],
 "metadata": {
  "kernelspec": {
   "display_name": "Python 3",
   "language": "python",
   "name": "python3"
  },
  "language_info": {
   "codemirror_mode": {
    "name": "ipython",
    "version": 2
   },
   "file_extension": ".py",
   "mimetype": "text/x-python",
   "name": "python",
   "nbconvert_exporter": "python",
   "pygments_lexer": "ipython2",
   "version": "2.7.6"
  }
 },
 "nbformat": 4,
 "nbformat_minor": 0
}
