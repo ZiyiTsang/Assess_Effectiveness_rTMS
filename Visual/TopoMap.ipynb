{
 "cells": [
  {
   "cell_type": "code",
   "source": [
    "import numpy as np\n",
    "import mne\n",
    "from tqdm import tqdm\n",
    "import os\n",
    "mne.set_log_level('WARNING')\n",
    "from mne.viz import plot_topomap as plot_topo_ZKP\n",
    "import matplotlib.pyplot as plt\n",
    "import matplotlib as mpl\n"
   ],
   "metadata": {
    "collapsed": false
   },
   "id": "ed49ad15424c986e",
   "outputs": [],
   "execution_count": null
  },
  {
   "cell_type": "code",
   "source": [
    "s1_epochs_before=mne.read_epochs(os.path.join('E:\\ZKP\\drug persons\\eeg\\export\\EpochData', \"MBT_S1-epo.fif\"))\n",
    "s2_epochs_before=mne.read_epochs(os.path.join('E:\\ZKP\\drug persons\\eeg\\export\\EpochData', \"MBT_S2-epo.fif\"))\n",
    "s1_epochs_after=mne.read_epochs(os.path.join('E:\\ZKP\\drug persons\\eeg\\export\\EpochData', \"MAT_S1-epo.fif\"))\n",
    "s2_epochs_after=mne.read_epochs(os.path.join('E:\\ZKP\\drug persons\\eeg\\export\\EpochData', \"MAT_S2-epo.fif\"))\n",
    "s1_epochs_Health=mne.read_epochs(os.path.join('E:\\ZKP\\drug persons\\eeg\\export\\EpochData', \"HC_S1-epo.fif\"))\n",
    "s2_epochs_Health=mne.read_epochs(os.path.join('E:\\ZKP\\drug persons\\eeg\\export\\EpochData', \"HC_S2-epo.fif\"))\n",
    "s1_epochs_HealthA=mne.read_epochs(os.path.join('E:\\ZKP\\drug persons\\eeg\\export\\EpochData', \"HCA_S1-epo.fif\"))\n",
    "s2_epochs_HealthA=mne.read_epochs(os.path.join('E:\\ZKP\\drug persons\\eeg\\export\\EpochData', \"HCA_S2-epo.fif\"))"
   ],
   "metadata": {
    "collapsed": false
   },
   "id": "c688b25adda38b49",
   "outputs": [],
   "execution_count": null
  },
  {
   "metadata": {},
   "cell_type": "markdown",
   "source": "Processing the data",
   "id": "86cbc731d8cf9e7f"
  },
  {
   "metadata": {},
   "cell_type": "code",
   "source": [
    "s1_spectrum=s1_epochs_before.compute_psd(picks=\"eeg\", fmin=1, fmax=44,method='multitaper',n_jobs=8)\n",
    "s1_spectrum_after=s1_epochs_after.compute_psd(fmin=1, fmax=44,method='multitaper',n_jobs=8)\n",
    "s1_spectrum_Health=s1_epochs_Health.compute_psd(fmin=1, fmax=44,method='multitaper',n_jobs=8)\n",
    "\n",
    "\n",
    "s2_spectrum=s2_epochs_before.compute_psd(picks=\"eeg\", fmin=1, fmax=44,method='multitaper',n_jobs=8)\n",
    "s2_spectrum_after=s2_epochs_after.compute_psd(fmin=1, fmax=44,method='multitaper',n_jobs=8)\n",
    "s2_spectrum_Health=s2_epochs_Health.compute_psd(fmin=1, fmax=44,method='multitaper',n_jobs=8)\n"
   ],
   "id": "7e397cf874f34196",
   "outputs": [],
   "execution_count": null
  },
  {
   "metadata": {},
   "cell_type": "markdown",
   "source": "Define the function to plot the topomap",
   "id": "fcd5fbefc5b888ee"
  },
  {
   "cell_type": "code",
   "source": [
    "vmax_g,vmin_g=None,None\n",
    "def plot_spec_topo(pectrums_,band=None,vlim=None):\n",
    "    global vmax_g,vmin_g\n",
    "    bands = {'gamma': (30, 44),'beta': (13, 30),'alpha': (8, 13),'theta': (4, 8),'delta':(1, 4)}\n",
    "    def deal_psd(spectrum_):\n",
    "        psd=spectrum_.get_data()\n",
    "        psd*=1e6*1e6\n",
    "        psd /= np.sum(psd, axis=-1, keepdims=True)\n",
    "        psd*=100\n",
    "        mask=(spectrum_.freqs >= bands[band][0]) & (spectrum_.freqs < bands[band][1])\n",
    "        psd=psd[:,:,mask]\n",
    "        return psd.mean(axis=-1)\n",
    "\n",
    "    psd_MBT=deal_psd(pectrums_[0])\n",
    "    psd_MAT=deal_psd(pectrums_[1])\n",
    "    psd_HC=deal_psd(pectrums_[2])\n",
    "    psd_HCA=deal_psd(pectrums_[3])\n",
    "\n",
    "    psd_MBT_b=psd_MBT.mean(axis=-1)\n",
    "    psd_MAT_b=psd_MAT.mean(axis=-1)\n",
    "    psd_HC_b=psd_HC.mean(axis=-1)\n",
    "    psd_HCA_b=psd_HCA.mean(axis=-1)\n",
    "\n",
    "    psd_MBT_b_mean,psd_MBT_b_std=psd_MBT_b.mean(),psd_MBT_b.std()\n",
    "    psd_MAT_b_mean,psd_MAT_b_std=psd_MAT_b.mean(),psd_MAT_b.std()\n",
    "    psd_HC_b_mean,psd_HC_b_std=psd_HC_b.mean(),psd_HC_b.std()\n",
    "    psd_HCA_b_mean,psd_HCA_b_std=psd_HCA_b.mean(),psd_HCA_b.std()\n",
    "\n",
    "    print(psd_MBT_b_mean.round(3),psd_MAT_b_mean.round(3),psd_HC_b_mean.round(3),psd_HCA_b_mean.round(3))\n",
    "    print(psd_MBT_b_std.round(3),psd_MAT_b_std.round(3),psd_HC_b_std.round(3),psd_HCA_b_std.round(3))\n",
    "\n",
    "\n",
    "    psd_MBT_a=psd_MBT.mean(axis=0)\n",
    "    psd_MAT_a=psd_MAT.mean(axis=0)\n",
    "    psd_HC_a=psd_HC.mean(axis=0)\n",
    "    psd_HCA_a=psd_HCA.mean(axis=0)\n",
    "\n",
    "\n",
    "    if band in ['alpha','theta']:\n",
    "        vmax=psd_HC_a.mean()+2.5*psd_HC_a.std()\n",
    "        vmin=psd_HC_a.mean()-1.8*psd_HC_a.std()\n",
    "    else:\n",
    "        vmax=psd_MBT_a.mean()+1.8*psd_MBT_a.std()\n",
    "        vmin=psd_MBT_a.mean()-1.8*psd_MBT_a.std()\n",
    "\n",
    "    if vlim is not None:\n",
    "        vmax=vlim[1]\n",
    "        vmin=vlim[0]\n",
    "    vmax_g,vmin_g=vmax,vmin\n",
    "\n",
    "\n",
    "\n",
    "\n",
    "    fig, axes = plt.subplots(1, 1, figsize=(3, 3))\n",
    "    \n",
    "    # -------------un-comment the line below to plot the topomap----------\n",
    "    # plot_topo_ZKP(psd_MBT_a, pectrums_[0].info, size=5,res=800,axes=axes,vlim=(vmin,vmax))\n",
    "    # plot_topo_ZKP(psd_MAT_a, pectrums_[0].info, size=5,res=800,axes=axes,vlim=(vmin,vmax))\n",
    "    # plot_topo_ZKP(psd_HC_a, pectrums_[0].info, size=5,res=800,axes=axes,vlim=(vmin,vmax))\n",
    "\n"
   ],
   "metadata": {
    "collapsed": false
   },
   "id": "a862fff3709c2c7",
   "outputs": [],
   "execution_count": null
  },
  {
   "metadata": {},
   "cell_type": "code",
   "source": [
    "\n",
    "# plot_spec_topo([s1_spectrum,s1_spectrum_after,s1_spectrum_Health,s1_spectrum_Health_A],'delta',vlim=[1.55,3.96])\n",
    "# plot_spec_topo([s2_spectrum,s2_spectrum_after,s2_spectrum_Health,s2_spectrum_Health_A],'delta',vlim=[0.05,0.13])\n"
   ],
   "id": "1eedcbaa7eac2dd7",
   "outputs": [],
   "execution_count": null
  },
  {
   "metadata": {},
   "cell_type": "markdown",
   "source": "Plot the colorbar",
   "id": "d813027ed1295fcf"
  },
  {
   "metadata": {},
   "cell_type": "code",
   "source": [
    "from matplotlib.ticker import StrMethodFormatter\n",
    "import copy\n",
    "import numpy as np\n",
    "\n",
    "import matplotlib as mpl\n",
    "import matplotlib.pyplot as plt\n",
    "\n",
    "fig, axes = plt.subplots(1, 1, figsize=(0.5, 4))\n",
    "fig.subplots_adjust(hspace=4)\n",
    "\n",
    "# 第一个colorbar使用线性的Normalize.\n",
    "cmap1 = copy.copy(mpl.cm.Reds)\n",
    "norm1 = mpl.colors.Normalize(vmin=vmin_g, vmax=vmax_g)\n",
    "im1 = mpl.cm.ScalarMappable(norm=norm1, cmap=cmap1)\n",
    "cbar1 = fig.colorbar(\n",
    "    im1, cax=axes, orientation='vertical',\n",
    "    ticks=np.linspace(vmin_g, vmax_g, 5),\n",
    "    label='',\n",
    ")\n",
    "formatter = StrMethodFormatter('{x:.2f}')\n",
    "cbar1.ax.yaxis.set_major_formatter(formatter)\n",
    "\n",
    "new_size = 30\n",
    "cbar1.ax.yaxis.set_tick_params(labelsize=new_size)\n",
    "\n",
    "\n",
    "plt.show()\n"
   ],
   "id": "c5340b7794357cfe",
   "outputs": [],
   "execution_count": null
  },
  {
   "cell_type": "code",
   "source": [],
   "metadata": {
    "collapsed": false
   },
   "id": "9b6d0b93c50848ba",
   "outputs": [],
   "execution_count": null
  }
 ],
 "metadata": {
  "kernelspec": {
   "display_name": "Python 3",
   "language": "python",
   "name": "python3"
  },
  "language_info": {
   "codemirror_mode": {
    "name": "ipython",
    "version": 2
   },
   "file_extension": ".py",
   "mimetype": "text/x-python",
   "name": "python",
   "nbconvert_exporter": "python",
   "pygments_lexer": "ipython2",
   "version": "2.7.6"
  }
 },
 "nbformat": 4,
 "nbformat_minor": 5
}
